{
  "metadata": {
    "kernelspec": {
      "name": "python",
      "display_name": "Python (Pyodide)",
      "language": "python"
    },
    "language_info": {
      "codemirror_mode": {
        "name": "python",
        "version": 3
      },
      "file_extension": ".py",
      "mimetype": "text/x-python",
      "name": "python",
      "nbconvert_exporter": "python",
      "pygments_lexer": "ipython3",
      "version": "3.8"
    }
  },
  "nbformat_minor": 5,
  "nbformat": 4,
  "cells": [
    {
      "id": "3276513f-5aba-4e81-92df-b4dcd283c989",
      "cell_type": "code",
      "source": "total_sum = 0\n\nfor number in range(1, 51):\n    total_sum += number\nprint(f\"The sum of integers from 1 to 50 is: {total_sum}\")\n \n",
      "metadata": {
        "trusted": true
      },
      "outputs": [
        {
          "name": "stdout",
          "output_type": "stream",
          "text": "The sum of integers from 1 to 50 is: 1275\n"
        }
      ],
      "execution_count": 1
    },
    {
      "id": "df37e71a-4ce8-44d8-8aa8-dd490063d362",
      "cell_type": "code",
      "source": "",
      "metadata": {
        "trusted": true
      },
      "outputs": [],
      "execution_count": null
    }
  ]
}