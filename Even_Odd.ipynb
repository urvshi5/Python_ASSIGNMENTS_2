{
  "metadata": {
    "kernelspec": {
      "name": "python",
      "display_name": "Python (Pyodide)",
      "language": "python"
    },
    "language_info": {
      "codemirror_mode": {
        "name": "python",
        "version": 3
      },
      "file_extension": ".py",
      "mimetype": "text/x-python",
      "name": "python",
      "nbconvert_exporter": "python",
      "pygments_lexer": "ipython3",
      "version": "3.8"
    }
  },
  "nbformat_minor": 5,
  "nbformat": 4,
  "cells": [
    {
      "id": "c5af9655-2ede-4e7e-a27f-ddb4bf5f5862",
      "cell_type": "code",
      "source": "try:\n    number = int(input(\"Enter an integer: \")) \n    if number % 2 == 0:\n        print(f\"The number {number} is Even.\")\n    else:\n        print(f\"The number {number} is Odd.\")\n\nexcept ValueError:\n    print(\"Invalid input. Please enter a whole number.\")",
      "metadata": {
        "trusted": true
      },
      "outputs": [
        {
          "output_type": "stream",
          "name": "stdin",
          "text": "Enter an integer:  6\n"
        },
        {
          "name": "stdout",
          "output_type": "stream",
          "text": "The number 6 is Even.\n"
        }
      ],
      "execution_count": 2
    },
    {
      "id": "34eb1b61-5641-41a3-baf6-7176d054c58b",
      "cell_type": "code",
      "source": "",
      "metadata": {
        "trusted": true
      },
      "outputs": [],
      "execution_count": null
    }
  ]
}